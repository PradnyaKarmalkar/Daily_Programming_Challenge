{
 "cells": [
  {
   "cell_type": "code",
   "execution_count": null,
   "id": "c82ac85f",
   "metadata": {},
   "outputs": [],
   "source": [
    "'''Problem : Trapping Rain Water\n",
    "You are given an array height[] of non-negative integers where each \n",
    "element represents the height of a bar in a histogram-like structure. \n",
    "These bars are placed next to each other, and the width of each bar is 1 unit. \n",
    "When it rains, water gets trapped between the bars if there are taller bars on both\n",
    "the left and right of the shorter bars. The task is to calculate how much water can be \n",
    "trapped between these bars after the rain.'''"
   ]
  },
  {
   "cell_type": "code",
   "execution_count": 3,
   "id": "4455ffbb",
   "metadata": {},
   "outputs": [],
   "source": [
    "def trap(height):\n",
    "    if not height:\n",
    "        return 0\n",
    "    \n",
    "    left, right = 0, len(height) - 1\n",
    "    left_max, right_max = 0, 0\n",
    "    water_trapped = 0\n",
    "    \n",
    "    while left <= right:\n",
    "        if height[left] < height[right]:\n",
    "            if height[left] >= left_max:\n",
    "                left_max = height[left]\n",
    "            else:\n",
    "                water_trapped += left_max - height[left]\n",
    "            left += 1\n",
    "        else:\n",
    "            if height[right] >= right_max:\n",
    "                right_max = height[right]\n",
    "            else:\n",
    "                water_trapped += right_max - height[right]\n",
    "            right -= 1\n",
    "    \n",
    "    return water_trapped"
   ]
  },
  {
   "cell_type": "code",
   "execution_count": 4,
   "id": "717e136a",
   "metadata": {},
   "outputs": [
    {
     "name": "stdout",
     "output_type": "stream",
     "text": [
      "Total water trapped: 6\n"
     ]
    }
   ],
   "source": [
    "height = [0, 1, 0, 2, 1, 0, 1, 3, 2, 1, 2, 1]\n",
    "print(\"Total water trapped:\", trap(height))"
   ]
  },
  {
   "cell_type": "code",
   "execution_count": null,
   "id": "62e41a3a",
   "metadata": {},
   "outputs": [],
   "source": []
  }
 ],
 "metadata": {
  "kernelspec": {
   "display_name": "Python 3 (ipykernel)",
   "language": "python",
   "name": "python3"
  },
  "language_info": {
   "codemirror_mode": {
    "name": "ipython",
    "version": 3
   },
   "file_extension": ".py",
   "mimetype": "text/x-python",
   "name": "python",
   "nbconvert_exporter": "python",
   "pygments_lexer": "ipython3",
   "version": "3.9.13"
  }
 },
 "nbformat": 4,
 "nbformat_minor": 5
}
