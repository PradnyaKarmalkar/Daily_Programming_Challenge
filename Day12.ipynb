{
 "cells": [
  {
   "cell_type": "code",
   "execution_count": null,
   "id": "d5b48c9e",
   "metadata": {},
   "outputs": [],
   "source": [
    "''' Valid Parentheses with Multiple Types\n",
    "You are given a string s consisting of different types of parentheses: \n",
    "(), {}, and []. Your task is to determine whether the given string is valid.'''"
   ]
  },
  {
   "cell_type": "code",
   "execution_count": 4,
   "id": "efda9792",
   "metadata": {},
   "outputs": [],
   "source": [
    "def is_valid_parentheses(s):\n",
    "    bracket_map = {')': '(', '}': '{', ']': '['}\n",
    "    stack = []\n",
    "    for char in s:\n",
    "        if char in bracket_map:\n",
    "            top_element = stack.pop() if stack else '#'\n",
    "            if bracket_map[char] != top_element:\n",
    "                return False\n",
    "        else:\n",
    "            \n",
    "            stack.append(char)\n",
    "    return not stack"
   ]
  },
  {
   "cell_type": "code",
   "execution_count": 5,
   "id": "1ee12861",
   "metadata": {},
   "outputs": [
    {
     "name": "stdout",
     "output_type": "stream",
     "text": [
      "Is the string valid?: True\n"
     ]
    }
   ],
   "source": [
    "s = \"[{()}]\"\n",
    "print(\"Is the string valid?:\", is_valid_parentheses(s))\n"
   ]
  },
  {
   "cell_type": "code",
   "execution_count": null,
   "id": "3f1bf291",
   "metadata": {},
   "outputs": [],
   "source": []
  }
 ],
 "metadata": {
  "kernelspec": {
   "display_name": "Python 3 (ipykernel)",
   "language": "python",
   "name": "python3"
  },
  "language_info": {
   "codemirror_mode": {
    "name": "ipython",
    "version": 3
   },
   "file_extension": ".py",
   "mimetype": "text/x-python",
   "name": "python",
   "nbconvert_exporter": "python",
   "pygments_lexer": "ipython3",
   "version": "3.9.13"
  }
 },
 "nbformat": 4,
 "nbformat_minor": 5
}
