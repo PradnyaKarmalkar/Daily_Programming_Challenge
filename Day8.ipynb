{
 "cells": [
  {
   "cell_type": "code",
   "execution_count": null,
   "id": "78194be3",
   "metadata": {},
   "outputs": [],
   "source": [
    "'''Reverse a String Word by Word\n",
    "You are given a string s that consists of multiple words separated by spaces. \n",
    "Your task is to reverse the order of the words in the string. Words are defined as \n",
    "sequences of non-space characters. The output string should\n",
    "not contain leading or trailing spaces, and multiple spaces between words should be\n",
    "reduced to a single space.'''"
   ]
  },
  {
   "cell_type": "code",
   "execution_count": 4,
   "id": "32c8918d",
   "metadata": {},
   "outputs": [],
   "source": [
    "def reverse_words(s):\n",
    "    words = s.split()\n",
    "    reversed_words = words[::-1]\n",
    "    return ' '.join(reversed_words)"
   ]
  },
  {
   "cell_type": "code",
   "execution_count": 5,
   "id": "1a449768",
   "metadata": {},
   "outputs": [
    {
     "name": "stdout",
     "output_type": "stream",
     "text": [
      "Reversed words: blue is sky the\n"
     ]
    }
   ],
   "source": [
    "s = \"the sky is blue\"\n",
    "print(\"Reversed words:\", reverse_words(s))"
   ]
  },
  {
   "cell_type": "code",
   "execution_count": null,
   "id": "b7fa95e3",
   "metadata": {},
   "outputs": [],
   "source": []
  }
 ],
 "metadata": {
  "kernelspec": {
   "display_name": "Python 3 (ipykernel)",
   "language": "python",
   "name": "python3"
  },
  "language_info": {
   "codemirror_mode": {
    "name": "ipython",
    "version": 3
   },
   "file_extension": ".py",
   "mimetype": "text/x-python",
   "name": "python",
   "nbconvert_exporter": "python",
   "pygments_lexer": "ipython3",
   "version": "3.9.13"
  }
 },
 "nbformat": 4,
 "nbformat_minor": 5
}
