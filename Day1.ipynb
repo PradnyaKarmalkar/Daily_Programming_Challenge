{
 "cells": [
  {
   "cell_type": "code",
   "execution_count": 3,
   "id": "0908784e",
   "metadata": {},
   "outputs": [],
   "source": [
    "'''Problem: Sort an Array of 0s, 1s, and 2s\n",
    "You are given an array arr consisting only of 0s, 1s, and 2s. The task is to sort the array in increasing order in linear time\n",
    "(i.e., O(n)) without using any extra space. This means you need to rearrange the array in-place.'''\n",
    "\n",
    "def sort_array(arr):\n",
    "    low, mid = 0, 0\n",
    "    high = len(arr) - 1\n",
    "    \n",
    "    while mid <= high:\n",
    "        if arr[mid] == 0:\n",
    "            arr[low], arr[mid] = arr[mid], arr[low]\n",
    "            low += 1\n",
    "            mid += 1\n",
    "        elif arr[mid] == 1:\n",
    "            mid += 1\n",
    "        else: \n",
    "            arr[high], arr[mid] = arr[mid], arr[high]\n",
    "            high -= 1"
   ]
  },
  {
   "cell_type": "code",
   "execution_count": 4,
   "id": "f11ddcf5",
   "metadata": {},
   "outputs": [
    {
     "name": "stdout",
     "output_type": "stream",
     "text": [
      "Enter the array of 0s, 1s, and 2s: 2,1,1,2,0,0\n",
      "Sorted array: [0, 0, 1, 1, 2, 2]\n"
     ]
    }
   ],
   "source": [
    "# Taking input from the user\n",
    "user_input = input(\"Enter the array of 0s, 1s, and 2s: \")\n",
    "arr = list(map(int, user_input.split(',')))\n",
    "sort_array(arr)\n",
    "print(\"Sorted array:\", arr)\n"
   ]
  },
  {
   "cell_type": "code",
   "execution_count": null,
   "id": "cb68f451",
   "metadata": {},
   "outputs": [],
   "source": []
  }
 ],
 "metadata": {
  "kernelspec": {
   "display_name": "Python 3 (ipykernel)",
   "language": "python",
   "name": "python3"
  },
  "language_info": {
   "codemirror_mode": {
    "name": "ipython",
    "version": 3
   },
   "file_extension": ".py",
   "mimetype": "text/x-python",
   "name": "python",
   "nbconvert_exporter": "python",
   "pygments_lexer": "ipython3",
   "version": "3.9.13"
  }
 },
 "nbformat": 4,
 "nbformat_minor": 5
}
