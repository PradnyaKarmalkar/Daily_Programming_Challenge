{
 "cells": [
  {
   "cell_type": "code",
   "execution_count": null,
   "id": "c5d10396",
   "metadata": {},
   "outputs": [],
   "source": [
    "'''Find the Leaders in an Array\n",
    "You are given an integer array arr of size n. An element is considered a leader if it is greater than all the elements to its right. Your task is to find all such leader elements in the array.'''"
   ]
  },
  {
   "cell_type": "code",
   "execution_count": 8,
   "id": "eb6fb95f",
   "metadata": {},
   "outputs": [],
   "source": [
    "def find(arr):\n",
    "    n = len(arr)\n",
    "    leaders = []\n",
    "    max_right = arr[-1]\n",
    "    leaders.append(max_right)\n",
    "    for i in range(n-2, -1, -1):\n",
    "        if arr[i] >= max_right:\n",
    "            leaders.append(arr[i])\n",
    "            max_right = arr[i]\n",
    "    leaders.reverse()\n",
    "    return leaders"
   ]
  },
  {
   "cell_type": "code",
   "execution_count": 9,
   "id": "48765856",
   "metadata": {},
   "outputs": [
    {
     "name": "stdout",
     "output_type": "stream",
     "text": [
      "Leaders: [17, 5, 2]\n"
     ]
    }
   ],
   "source": [
    "arr = [16, 17, 4, 3, 5, 2]\n",
    "print(\"Leaders:\", find_leaders(arr))"
   ]
  },
  {
   "cell_type": "code",
   "execution_count": null,
   "id": "1565434d",
   "metadata": {},
   "outputs": [],
   "source": []
  }
 ],
 "metadata": {
  "kernelspec": {
   "display_name": "Python 3 (ipykernel)",
   "language": "python",
   "name": "python3"
  },
  "language_info": {
   "codemirror_mode": {
    "name": "ipython",
    "version": 3
   },
   "file_extension": ".py",
   "mimetype": "text/x-python",
   "name": "python",
   "nbconvert_exporter": "python",
   "pygments_lexer": "ipython3",
   "version": "3.9.13"
  }
 },
 "nbformat": 4,
 "nbformat_minor": 5
}
