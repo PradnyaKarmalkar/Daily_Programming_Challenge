{
 "cells": [
  {
   "cell_type": "code",
   "execution_count": null,
   "id": "54e1cc4a",
   "metadata": {},
   "outputs": [],
   "source": [
    "'''Permutations of a String\n",
    "You are given a string s. Your task is to generate and return all possible permutations of the characters in the string.\n",
    "A permutation is a rearrangement of the characters in the string, and each character must appear exactly once in every \n",
    "permutation. If there are duplicate characters in the string, the resulting permutations should also be unique \n",
    "(i.e., no repeated permutations).'''"
   ]
  },
  {
   "cell_type": "code",
   "execution_count": 3,
   "id": "75b97cbc",
   "metadata": {},
   "outputs": [],
   "source": [
    "def permute(s):\n",
    "    def backtrack(start, end):\n",
    "        if start == end:\n",
    "            result.append(''.join(s))  \n",
    "        else:\n",
    "            for i in range(start, end):\n",
    "                s[start], s[i] = s[i], s[start]\n",
    "                backtrack(start + 1, end)\n",
    "                s[start], s[i] = s[i], s[start]\n",
    "    \n",
    "    \n",
    "    s = list(s)\n",
    "    result = []\n",
    "    backtrack(0, len(s))\n",
    "    return result"
   ]
  },
  {
   "cell_type": "code",
   "execution_count": 4,
   "id": "47ab79fe",
   "metadata": {},
   "outputs": [
    {
     "name": "stdout",
     "output_type": "stream",
     "text": [
      "Permutations of the string: ['abc', 'acb', 'bac', 'bca', 'cba', 'cab']\n"
     ]
    }
   ],
   "source": [
    "s = \"abc\"\n",
    "permutations = permute(s)\n",
    "print(\"Permutations of the string:\", permutations)"
   ]
  },
  {
   "cell_type": "code",
   "execution_count": null,
   "id": "ce4ab70e",
   "metadata": {},
   "outputs": [],
   "source": []
  }
 ],
 "metadata": {
  "kernelspec": {
   "display_name": "Python 3 (ipykernel)",
   "language": "python",
   "name": "python3"
  },
  "language_info": {
   "codemirror_mode": {
    "name": "ipython",
    "version": 3
   },
   "file_extension": ".py",
   "mimetype": "text/x-python",
   "name": "python",
   "nbconvert_exporter": "python",
   "pygments_lexer": "ipython3",
   "version": "3.9.13"
  }
 },
 "nbformat": 4,
 "nbformat_minor": 5
}
