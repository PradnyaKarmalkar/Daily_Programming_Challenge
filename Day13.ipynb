{
 "cells": [
  {
   "cell_type": "code",
   "execution_count": null,
   "id": "a8921b53",
   "metadata": {},
   "outputs": [],
   "source": [
    "''' Longest Palindromic Substring\n",
    "You are given a string s. Your task is to find and return\n",
    "the longest palindromic substring within the given string.\n",
    "A palindrome is a string that reads the same forwards and backwards.'''"
   ]
  },
  {
   "cell_type": "code",
   "execution_count": 3,
   "id": "35f76478",
   "metadata": {},
   "outputs": [],
   "source": [
    "def longest_palindromic_substring(s):\n",
    "    def expand_around_center(left, right):\n",
    "        while left >= 0 and right < len(s) and s[left] == s[right]:\n",
    "            left -= 1\n",
    "            right += 1\n",
    "        return left + 1, right - 1\n",
    "\n",
    "    start, end = 0, 0  \n",
    "\n",
    "    for i in range(len(s)):\n",
    "        left1, right1 = expand_around_center(i, i)\n",
    "        left2, right2 = expand_around_center(i, i + 1)\n",
    "\n",
    "        if right1 - left1 > end - start:\n",
    "            start, end = left1, right1\n",
    "        if right2 - left2 > end - start:\n",
    "            start, end = left2, right2\n",
    "\n",
    "    return s[start:end + 1]"
   ]
  },
  {
   "cell_type": "code",
   "execution_count": 4,
   "id": "ca82f00a",
   "metadata": {},
   "outputs": [
    {
     "name": "stdout",
     "output_type": "stream",
     "text": [
      "Longest palindromic substring: bab\n"
     ]
    }
   ],
   "source": [
    "s = \"babad\"\n",
    "print(\"Longest palindromic substring:\", longest_palindromic_substring(s))\n"
   ]
  },
  {
   "cell_type": "code",
   "execution_count": null,
   "id": "601c2ff0",
   "metadata": {},
   "outputs": [],
   "source": [
    " "
   ]
  }
 ],
 "metadata": {
  "kernelspec": {
   "display_name": "Python 3 (ipykernel)",
   "language": "python",
   "name": "python3"
  },
  "language_info": {
   "codemirror_mode": {
    "name": "ipython",
    "version": 3
   },
   "file_extension": ".py",
   "mimetype": "text/x-python",
   "name": "python",
   "nbconvert_exporter": "python",
   "pygments_lexer": "ipython3",
   "version": "3.9.13"
  }
 },
 "nbformat": 4,
 "nbformat_minor": 5
}
