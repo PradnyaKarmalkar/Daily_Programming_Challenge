{
 "cells": [
  {
   "cell_type": "code",
   "execution_count": null,
   "id": "bdc7d977",
   "metadata": {},
   "outputs": [],
   "source": [
    "'''Find All Subarrays with Zero Sum\n",
    "You are given an integer array arr of size n. Your task is to find all the subarrays whose elements sum up to zero. A subarray is defined as a contiguous part of the array, and you must return the starting and ending indices of each subarray.\n",
    "'''"
   ]
  },
  {
   "cell_type": "code",
   "execution_count": 8,
   "id": "87d71a15",
   "metadata": {},
   "outputs": [],
   "source": [
    "def find_zero_sum_subarrays(arr):\n",
    "    n=len(arr)\n",
    "    cum_sum=0\n",
    "    sum_map={}\n",
    "    result=[]\n",
    "    sum_map[0]=[-1]\n",
    "    \n",
    "    for i in range(n):\n",
    "        cum_sum+=arr[i]\n",
    "        if cum_sum in sum_map:\n",
    "            for start_index in sum_map[cum_sum]:\n",
    "                result.append((start_index + 1, i))\n",
    "        if cum_sum in sum_map:\n",
    "            sum_map[cum_sum].append(i)\n",
    "        else:\n",
    "            sum_map[cum_sum]=[i]\n",
    "    return result"
   ]
  },
  {
   "cell_type": "code",
   "execution_count": 10,
   "id": "0d378c8b",
   "metadata": {},
   "outputs": [
    {
     "name": "stdout",
     "output_type": "stream",
     "text": [
      "Subarrays with zero sum: [(0, 2), (2, 3)]\n"
     ]
    }
   ],
   "source": [
    "arr=[1, 2, -3, 3, -1, 2]\n",
    "subarrays=find_zero_sum_subarrays(arr)\n",
    "print(\"Subarrays with zero sum:\", subarrays)\n"
   ]
  },
  {
   "cell_type": "code",
   "execution_count": null,
   "id": "804e5eba",
   "metadata": {},
   "outputs": [],
   "source": []
  },
  {
   "cell_type": "code",
   "execution_count": null,
   "id": "b448fbd2",
   "metadata": {},
   "outputs": [],
   "source": []
  }
 ],
 "metadata": {
  "kernelspec": {
   "display_name": "Python 3 (ipykernel)",
   "language": "python",
   "name": "python3"
  },
  "language_info": {
   "codemirror_mode": {
    "name": "ipython",
    "version": 3
   },
   "file_extension": ".py",
   "mimetype": "text/x-python",
   "name": "python",
   "nbconvert_exporter": "python",
   "pygments_lexer": "ipython3",
   "version": "3.9.13"
  }
 },
 "nbformat": 4,
 "nbformat_minor": 5
}
