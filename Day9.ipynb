{
 "cells": [
  {
   "cell_type": "code",
   "execution_count": 1,
   "id": "76a16a3e",
   "metadata": {},
   "outputs": [
    {
     "data": {
      "text/plain": [
       "'Problem : Longest Common Prefix\\nYou are given an array of strings strs[], consisting of lowercase letters. \\nYour task is to find the longest common prefix shared among all the strings.\\nIf there is no common prefix, return an empty string \"\".\\n\\n'"
      ]
     },
     "execution_count": 1,
     "metadata": {},
     "output_type": "execute_result"
    }
   ],
   "source": [
    "'''Problem : Longest Common Prefix\n",
    "You are given an array of strings strs[], consisting of lowercase letters. \n",
    "Your task is to find the longest common prefix shared among all the strings.\n",
    "If there is no common prefix, return an empty string \"\".\n",
    "\n",
    "'''"
   ]
  },
  {
   "cell_type": "code",
   "execution_count": 3,
   "id": "d9f35540",
   "metadata": {},
   "outputs": [],
   "source": [
    "def longest_common_prefix(strs):\n",
    "    if not strs:\n",
    "        return \"\"\n",
    "    prefix = strs[0]\n",
    "    for string in strs[1:]:\n",
    "        while string[:len(prefix)] != prefix:\n",
    "            # Shorten the prefix by one character each time there's a mismatch\n",
    "            prefix = prefix[:-1]\n",
    "            if not prefix:\n",
    "                return \"\"\n",
    "    return prefix\n",
    "\n"
   ]
  },
  {
   "cell_type": "code",
   "execution_count": 4,
   "id": "45a8a718",
   "metadata": {},
   "outputs": [
    {
     "name": "stdout",
     "output_type": "stream",
     "text": [
      "Longest common prefix: fl\n"
     ]
    }
   ],
   "source": [
    "strs = [\"flower\", \"flow\", \"flight\"]\n",
    "print(\"Longest common prefix:\", longest_common_prefix(strs))\n"
   ]
  },
  {
   "cell_type": "code",
   "execution_count": null,
   "id": "aed988da",
   "metadata": {},
   "outputs": [],
   "source": []
  }
 ],
 "metadata": {
  "kernelspec": {
   "display_name": "Python 3 (ipykernel)",
   "language": "python",
   "name": "python3"
  },
  "language_info": {
   "codemirror_mode": {
    "name": "ipython",
    "version": 3
   },
   "file_extension": ".py",
   "mimetype": "text/x-python",
   "name": "python",
   "nbconvert_exporter": "python",
   "pygments_lexer": "ipython3",
   "version": "3.9.13"
  }
 },
 "nbformat": 4,
 "nbformat_minor": 5
}
