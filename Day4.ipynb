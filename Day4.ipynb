{
 "cells": [
  {
   "cell_type": "code",
   "execution_count": 9,
   "id": "dea0bf96",
   "metadata": {},
   "outputs": [
    {
     "data": {
      "text/plain": [
       "'Merge Two Sorted Arrays\\nYou are given two sorted arrays arr1 of size m and arr2 of size n. Your task is to merge these two arrays into a single sorted array without using any extra space (i.e., in-place merging). The elements in arr1 should be merged first, followed by the elements of arr2, resulting in both arrays being sorted after the merge.\\n'"
      ]
     },
     "execution_count": 9,
     "metadata": {},
     "output_type": "execute_result"
    }
   ],
   "source": [
    "'''Merge Two Sorted Arrays\n",
    "You are given two sorted arrays arr1 of size m and arr2 of size n. Your task is to merge these two arrays into a single sorted array without using any extra space (i.e., in-place merging). The elements in arr1 should be merged first, followed by the elements of arr2, resulting in both arrays being sorted after the merge.\n",
    "'''"
   ]
  },
  {
   "cell_type": "code",
   "execution_count": 6,
   "id": "177ad737",
   "metadata": {},
   "outputs": [],
   "source": [
    "def merge(arr1, arr2, m, n):\n",
    "    for i in range(m):\n",
    "        if arr1[i] > arr2[0]:\n",
    "            arr1[i], arr2[0] = arr2[0], arr1[i]\n",
    "            first = arr2[0]\n",
    "            k = 1\n",
    "            while k < n and arr2[k] < first:\n",
    "                arr2[k-1] = arr2[k]\n",
    "                k += 1\n",
    "            arr2[k-1] = first\n",
    "\n"
   ]
  },
  {
   "cell_type": "code",
   "execution_count": 7,
   "id": "0700c25b",
   "metadata": {},
   "outputs": [
    {
     "name": "stdout",
     "output_type": "stream",
     "text": [
      "arr1 after merging: [1, 2, 3, 4]\n",
      "arr2 after merging: [5, 6, 7, 8]\n"
     ]
    }
   ],
   "source": [
    "arr1 = [1, 3, 5, 7]\n",
    "arr2 = [2, 4, 6, 8]\n",
    "m = len(arr1)\n",
    "n = len(arr2)\n",
    "\n",
    "merge(arr1, arr2, m, n)\n",
    "\n",
    "print(\"arr1 after merging:\", arr1)\n",
    "print(\"arr2 after merging:\", arr2)\n"
   ]
  },
  {
   "cell_type": "code",
   "execution_count": null,
   "id": "ae52347c",
   "metadata": {},
   "outputs": [],
   "source": []
  }
 ],
 "metadata": {
  "kernelspec": {
   "display_name": "Python 3 (ipykernel)",
   "language": "python",
   "name": "python3"
  },
  "language_info": {
   "codemirror_mode": {
    "name": "ipython",
    "version": 3
   },
   "file_extension": ".py",
   "mimetype": "text/x-python",
   "name": "python",
   "nbconvert_exporter": "python",
   "pygments_lexer": "ipython3",
   "version": "3.9.13"
  }
 },
 "nbformat": 4,
 "nbformat_minor": 5
}
